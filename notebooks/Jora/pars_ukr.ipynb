{
 "cells": [
  {
   "cell_type": "code",
   "execution_count": 1,
   "id": "9087c292",
   "metadata": {},
   "outputs": [],
   "source": [
    "from webdriver_manager.chrome import ChromeDriverManager\n",
    "import time as time\n",
    "import requests\n",
    "from bs4 import BeautifulSoup"
   ]
  },
  {
   "cell_type": "code",
   "execution_count": 2,
   "id": "af4da2d7",
   "metadata": {},
   "outputs": [],
   "source": [
    "from selenium.webdriver.chrome.service import Service\n",
    "from selenium import webdriver\n",
    "\n",
    "service = Service(executable_path=r\"C:\\Users\\Jora\\Desktop\\hack_0912\\chromedriver.exe\")\n",
    "driver = webdriver.Chrome(service=service)"
   ]
  },
  {
   "cell_type": "code",
   "execution_count": 23,
   "id": "17c1eb6b",
   "metadata": {},
   "outputs": [
    {
     "name": "stderr",
     "output_type": "stream",
     "text": [
      "C:\\Users\\Jora\\AppData\\Local\\Temp\\ipykernel_4932\\4114331251.py:3: DeprecationWarning: find_element_by_* commands are deprecated. Please use find_element() instead\n",
      "  driver.find_element_by_xpath('/html/body/header/div[1]/div[2]/div/form/div[2]/input').send_keys(\"himars\")\n",
      "C:\\Users\\Jora\\AppData\\Local\\Temp\\ipykernel_4932\\4114331251.py:5: DeprecationWarning: find_element_by_* commands are deprecated. Please use find_element() instead\n",
      "  driver.find_element_by_class_name('oc-header-search__button').click()\n"
     ]
    }
   ],
   "source": [
    "driver.get('https://opencorporates.com/registers?all_registers=true')\n",
    "time.sleep(2)\n",
    "driver.find_element_by_xpath('/html/body/header/div[1]/div[2]/div/form/div[2]/input').send_keys(\"himars\")\n",
    "time.sleep(2)\n",
    "driver.find_element_by_class_name('oc-header-search__button').click()\n",
    "time.sleep(7)\n",
    "end_point=driver.current_url"
   ]
  },
  {
   "cell_type": "code",
   "execution_count": 24,
   "id": "9d664c2a",
   "metadata": {},
   "outputs": [],
   "source": [
    "data=driver.page_source"
   ]
  },
  {
   "cell_type": "code",
   "execution_count": 25,
   "id": "24ed6800",
   "metadata": {},
   "outputs": [],
   "source": [
    "soup = BeautifulSoup(data, \"html.parser\")"
   ]
  },
  {
   "cell_type": "code",
   "execution_count": 26,
   "id": "113ebe12",
   "metadata": {},
   "outputs": [],
   "source": [
    "allNews = soup.find_all('ul', class_='companies unstyled')"
   ]
  },
  {
   "cell_type": "code",
   "execution_count": 27,
   "id": "1306e231",
   "metadata": {},
   "outputs": [
    {
     "data": {
      "text/plain": [
       "[<ul class=\"companies unstyled\" id=\"companies\">\n",
       " <li class=\"search-result company goodstanding\">\n",
       " <a class=\"jurisdiction_filter us\" href=\"/companies/us_il\" title=\"Free And Open Data On Illinois (US) Companies\"><img alt=\"United States flag\" class=\"flag\" src=\"/assets/flags/us-e3c5ed45fb55b63dd70daf40e20f1d6c.gif\"/></a>\n",
       " <a class=\"company_search_result goodstanding\" href=\"/companies/us_il/CORP_73980941\" title=\"More Free And Open Company Data On HIMARS EXPRESS INC. (Illinois (US), CORP_73980941)\">HIMARS EXPRESS INC.</a>\n",
       " \n",
       " (Illinois (US), <span class=\"start_date\"> 2 Nov 2022</span>- )\n",
       " </li>\n",
       " <li class=\"search-result company active\">\n",
       " <a class=\"jurisdiction_filter us\" href=\"/companies/us_oh\" title=\"Free And Open Data On Ohio (US) Companies\"><img alt=\"United States flag\" class=\"flag\" src=\"/assets/flags/us-e3c5ed45fb55b63dd70daf40e20f1d6c.gif\"/></a>\n",
       " <a class=\"company_search_result active\" href=\"/companies/us_oh/4954840\" title=\"More Free And Open Company Data On HIMARS EXPRESS LLC (Ohio (US), 4954840)\">HIMARS EXPRESS LLC</a>\n",
       " \n",
       " (Ohio (US), <span class=\"start_date\">14 Nov 2022</span>- )\n",
       " </li>\n",
       " <li class=\"search-result company inactive permanently_revoked\">\n",
       " <a class=\"jurisdiction_filter us\" href=\"/companies/us_nv\" title=\"Free And Open Data On Nevada (US) Companies\"><img alt=\"United States flag\" class=\"flag\" src=\"/assets/flags/us-e3c5ed45fb55b63dd70daf40e20f1d6c.gif\"/></a>\n",
       " <span class=\"status label\">inactive</span>\n",
       " <a class=\"company_search_result inactive permanently_revoked\" href=\"/companies/us_nv/LLC13357-2003\" title=\"More Free And Open Company Data On HIMARS RC, LLC (Nevada (US), LLC13357-2003)\">HIMARS RC, LLC</a>\n",
       " \n",
       " (Nevada (US), <span class=\"start_date\"> 3 Sep 2003</span>-<span class=\"end_date\"> 3 Sep 2503</span>)\n",
       " </li>\n",
       " <li class=\"search-result company active\">\n",
       " <a class=\"jurisdiction_filter us\" href=\"/companies/us_va\" title=\"Free And Open Data On Virginia (US) Companies\"><img alt=\"United States flag\" class=\"flag\" src=\"/assets/flags/us-e3c5ed45fb55b63dd70daf40e20f1d6c.gif\"/></a>\n",
       " <a class=\"company_search_result active\" href=\"/companies/us_va/11422536\" title=\"More Free And Open Company Data On HIMARS TECHNOLOGIES INC. (Virginia (US), 11422536)\">HIMARS TECHNOLOGIES INC.</a>\n",
       " \n",
       " (Virginia (US), <span class=\"start_date\">10 Aug 2022</span>- , <span class=\"address\"><a href=\"https://maps.google.com?q=4544+Mary+Jane+Ter%2C+Glen+Allen%2C+Virginia%2C+23059-2401\" target=\"_blank\"><i class=\"fa fa-map-marker\"></i></a>4544 Mary Jane Ter, Glen Allen, Virginia, 23059-2401</span>)\n",
       " </li>\n",
       " </ul>]"
      ]
     },
     "execution_count": 27,
     "metadata": {},
     "output_type": "execute_result"
    }
   ],
   "source": [
    "allNews"
   ]
  },
  {
   "cell_type": "code",
   "execution_count": 32,
   "id": "dfcd4264",
   "metadata": {},
   "outputs": [],
   "source": [
    "filteredNews=''\n",
    "for data in allNews:\n",
    "    if data.find_all('a') is not None:\n",
    "        filteredNews+=data.text"
   ]
  },
  {
   "cell_type": "code",
   "execution_count": 37,
   "id": "bf1612ec",
   "metadata": {},
   "outputs": [
    {
     "data": {
      "text/plain": [
       "'\\n\\n\\nHIMARS EXPRESS INC.\\n\\n(Illinois (US),  2 Nov 2022- )\\n\\n\\n\\nHIMARS EXPRESS LLC\\n\\n(Ohio (US), 14 Nov 2022- )\\n\\n\\n\\ninactive\\nHIMARS RC, LLC\\n\\n(Nevada (US),  3 Sep 2003- 3 Sep 2503)\\n\\n\\n\\nHIMARS TECHNOLOGIES INC.\\n\\n(Virginia (US), 10 Aug 2022- , 4544 Mary Jane Ter, Glen Allen, Virginia, 23059-2401)\\n\\n'"
      ]
     },
     "execution_count": 37,
     "metadata": {},
     "output_type": "execute_result"
    }
   ],
   "source": [
    "filteredNews"
   ]
  },
  {
   "cell_type": "code",
   "execution_count": 40,
   "id": "2ffa181c",
   "metadata": {},
   "outputs": [
    {
     "data": {
      "text/plain": [
       "['\\n\\n\\nHIMARS EXPRESS INC.\\n\\n(Illinois (US),  2 Nov 2022- )',\n",
       " 'HIMARS EXPRESS LLC\\n\\n(Ohio (US), 14 Nov 2022- )',\n",
       " 'inactive\\nHIMARS RC, LLC\\n\\n(Nevada (US),  3 Sep 2003- 3 Sep 2503)',\n",
       " 'HIMARS TECHNOLOGIES INC.\\n\\n(Virginia (US), 10 Aug 2022- , 4544 Mary Jane Ter, Glen Allen, Virginia, 23059-2401)\\n\\n']"
      ]
     },
     "execution_count": 40,
     "metadata": {},
     "output_type": "execute_result"
    }
   ],
   "source": [
    "filteredNews.split('\\n\\n\\n\\n')"
   ]
  },
  {
   "cell_type": "code",
   "execution_count": 50,
   "id": "bc399e43",
   "metadata": {},
   "outputs": [
    {
     "name": "stdout",
     "output_type": "stream",
     "text": [
      "{'HIMARS EXPRESS INC.': 383, 'Illinois': 384, 'US': 384, '2': 397, 'HIMARS EXPRESS': 383, 'Ohio': 384, '14 Nov 2022-': 391, 'HIMARS RC': 383, 'Nevada': 384, '3': 397, 'HIMARS TECHNOLOGIES INC.': 383, 'Virginia': 384, '10': 397, 'Mary Jane Ter': 380, 'Glen Allen': 380, '23059-2401': 391}\n"
     ]
    }
   ],
   "source": [
    "import spacy\n",
    "slov={}\n",
    "nlp = spacy.load('en_core_web_sm')\n",
    "for j in filteredNews.split('\\n\\n\\n\\n'):\n",
    "    k=nlp(j)\n",
    "    for i in k.ents:\n",
    "        \n",
    "        slov[i.text]= i.label\n",
    "print(slov)"
   ]
  },
  {
   "cell_type": "code",
   "execution_count": null,
   "id": "eddf2a33",
   "metadata": {},
   "outputs": [],
   "source": []
  }
 ],
 "metadata": {
  "kernelspec": {
   "display_name": "Python 3 (ipykernel)",
   "language": "python",
   "name": "python3"
  },
  "language_info": {
   "codemirror_mode": {
    "name": "ipython",
    "version": 3
   },
   "file_extension": ".py",
   "mimetype": "text/x-python",
   "name": "python",
   "nbconvert_exporter": "python",
   "pygments_lexer": "ipython3",
   "version": "3.8.5"
  }
 },
 "nbformat": 4,
 "nbformat_minor": 5
}
